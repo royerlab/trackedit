{
 "cells": [
  {
   "cell_type": "code",
   "execution_count": null,
   "metadata": {},
   "outputs": [],
   "source": [
    "import napari\n",
    "import sys\n",
    "import numpy as np\n",
    "# Databases saved with numpy>2 need np._core.numeric, which is not available in numpy<2, hence the following hack\n",
    "sys.modules[\"numpy._core.numeric\"] = np.core.numeric\n",
    "from pathlib import Path\n",
    "from trackedit.motile_overwrites import *\n",
    "from trackedit.TrackEditClass import *\n",
    "from trackedit.DatabaseHandler import DatabaseHandler\n",
    "from motile_tracker.data_model.actions import AddEdges, DeleteNodes, DeleteEdges, AddNodes\n",
    "\n",
    "\n",
    "#**********INPUTS*********\n",
    "working_directory = Path('/home/teun.huijben/Documents/data/Akila/20241003/neuromast4_t851/adjusted/')\n",
    "db_filename_old = 'data.db'\n",
    "data_shape_full = [851,73,1024,1024]      #T,(Z),Y,X       (851,73,1024,1024)\n",
    "scale = (4,1,1)\n",
    "layer_name = 'ultrack'\n",
    "allow_overwrite = False      #overwrite existing database/changelog\n",
    "#*************************\n",
    "\n",
    "DB_handler = DatabaseHandler(\n",
    "            db_filename_old = db_filename_old,\n",
    "            working_directory = working_directory,\n",
    "            data_shape_full = data_shape_full,\n",
    "            scale = scale[0],\n",
    "            name = 'ultrack',\n",
    "            allow_overwrite = allow_overwrite)\n",
    "\n",
    "#overwrite some motile functions\n",
    "DeleteNodes._apply = create_db_delete_nodes(DB_handler)\n",
    "DeleteEdges._apply = create_db_delete_edges(DB_handler)\n",
    "AddEdges._apply = create_db_add_edges(DB_handler)\n",
    "AddNodes._apply = create_db_add_nodes(DB_handler)\n",
    "TracksViewer._refresh = create_tracks_viewer_and_segments_refresh(layer_name=layer_name)\n",
    "\n",
    "\n",
    "#open napari with TrackEdit\n",
    "viewer = napari.Viewer()\n",
    "trackeditclass = TrackEditClass(viewer, databasehandler = DB_handler)\n",
    "viewer.dims.ndisplay = 3    #3D view"
   ]
  }
 ],
 "metadata": {
  "kernelspec": {
   "display_name": "default",
   "language": "python",
   "name": "python3"
  },
  "language_info": {
   "codemirror_mode": {
    "name": "ipython",
    "version": 3
   },
   "file_extension": ".py",
   "mimetype": "text/x-python",
   "name": "python",
   "nbconvert_exporter": "python",
   "pygments_lexer": "ipython3",
   "version": "3.11.9"
  }
 },
 "nbformat": 4,
 "nbformat_minor": 2
}
